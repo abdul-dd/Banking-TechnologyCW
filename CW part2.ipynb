{
 "cells": [
  {
   "cell_type": "markdown",
   "metadata": {},
   "source": [
    "# Corsework part one"
   ]
  },
  {
   "cell_type": "markdown",
   "metadata": {},
   "source": [
    "## Binomial Tree (CRR Tree)"
   ]
  },
  {
   "cell_type": "markdown",
   "metadata": {},
   "source": [
    "The Binomial options pricing model approach has been widely used since it is able to handle a variety of conditions for which other models cannot easily be applied. This is largely because the BOPM is based on the description of an underlying instrument over a period of time rather than a single point."
   ]
  },
  {
   "cell_type": "code",
   "execution_count": 153,
   "metadata": {},
   "outputs": [],
   "source": [
    "import numpy as np\n",
    "import os"
   ]
  },
  {
   "cell_type": "markdown",
   "metadata": {},
   "source": [
    "### Data Input"
   ]
  },
  {
   "cell_type": "markdown",
   "metadata": {},
   "source": [
    "Valuation is performed iteratively, starting at each of the final nodes (those that may be reached at the time of expiration), and then working backwards through the tree towards the first node (valuation date). The value computed at each stage is the value of the option at that point in time."
   ]
  },
  {
   "cell_type": "code",
   "execution_count": 154,
   "metadata": {},
   "outputs": [],
   "source": [
    "S0 = 73.67                # spot stock price\n",
    "K = 70.0                  # strike\n",
    "T = 4/52                  # maturity \n",
    "r = 0.0124                # risk free rate  2,Mar\n",
    "Cash= 20                  # the payoff if the stock price in maturity less than K (S<K)\n",
    "sig = 0.6064816874048876  # collaborate (Average) volatility of the last one year and 6 months\n",
    "N = 10                    # number of periods or number of time steps  \n",
    "payoff = \"put\"            # the option type "
   ]
  },
  {
   "cell_type": "markdown",
   "metadata": {},
   "source": [
    "### Step 1: Create the binomial price tree"
   ]
  },
  {
   "cell_type": "markdown",
   "metadata": {},
   "source": [
    "The tree of prices is produced by working forward from valuation date to expiration.\n",
    "\n",
    "At each step, it is assumed that the underlying instrument will move up or down by a specific factor ( u or d) per step of the tree (where, by definition, u ≥ 1 and 0 < d ≤ 1 ). So, if S is the current price, then in the next period the price will either be S_up = S * u or S_down = S * d."
   ]
  },
  {
   "cell_type": "code",
   "execution_count": 155,
   "metadata": {},
   "outputs": [],
   "source": [
    "dT = float(T) / N                             # Delta t\n",
    "u = np.exp(sig * np.sqrt(dT))                 # up factor\n",
    "d = 1.0 / u                                   # down factor "
   ]
  },
  {
   "cell_type": "code",
   "execution_count": 156,
   "metadata": {},
   "outputs": [],
   "source": [
    "S = np.zeros((N + 1, N + 1))\n",
    "S[0, 0] = S0\n",
    "z = 1\n",
    "for t in range(1, N + 1):\n",
    "    for i in range(z):\n",
    "        S[i, t] = S[i, t-1] * u\n",
    "        S[i+1, t] = S[i, t-1] * d\n",
    "    z += 1"
   ]
  },
  {
   "cell_type": "code",
   "execution_count": 157,
   "metadata": {},
   "outputs": [
    {
     "data": {
      "text/plain": [
       "array([[ 73.67      ,  77.69474502,  81.93937022,  86.4158881 ,\n",
       "         91.13696745,  96.11596916, 101.36698406, 106.90487282,\n",
       "        112.74530793, 118.90481813, 125.40083517],\n",
       "       [  0.        ,  69.85374492,  73.67      ,  77.69474502,\n",
       "         81.93937022,  86.4158881 ,  91.13696745,  96.11596916,\n",
       "        101.36698406, 106.90487282, 112.74530793],\n",
       "       [  0.        ,   0.        ,  66.23517957,  69.85374492,\n",
       "         73.67      ,  77.69474502,  81.93937022,  86.4158881 ,\n",
       "         91.13696745,  96.11596916, 101.36698406],\n",
       "       [  0.        ,   0.        ,   0.        ,  62.80406323,\n",
       "         66.23517957,  69.85374492,  73.67      ,  77.69474502,\n",
       "         81.93937022,  86.4158881 ,  91.13696745],\n",
       "       [  0.        ,   0.        ,   0.        ,   0.        ,\n",
       "         59.55068566,  62.80406323,  66.23517957,  69.85374492,\n",
       "         73.67      ,  77.69474502,  81.93937022],\n",
       "       [  0.        ,   0.        ,   0.        ,   0.        ,\n",
       "          0.        ,  56.46583963,  59.55068566,  62.80406323,\n",
       "         66.23517957,  69.85374492,  73.67      ],\n",
       "       [  0.        ,   0.        ,   0.        ,   0.        ,\n",
       "          0.        ,   0.        ,  53.54079487,  56.46583963,\n",
       "         59.55068566,  62.80406323,  66.23517957],\n",
       "       [  0.        ,   0.        ,   0.        ,   0.        ,\n",
       "          0.        ,   0.        ,   0.        ,  50.76727334,\n",
       "         53.54079487,  56.46583963,  59.55068566],\n",
       "       [  0.        ,   0.        ,   0.        ,   0.        ,\n",
       "          0.        ,   0.        ,   0.        ,   0.        ,\n",
       "         48.13742585,  50.76727334,  53.54079487],\n",
       "       [  0.        ,   0.        ,   0.        ,   0.        ,\n",
       "          0.        ,   0.        ,   0.        ,   0.        ,\n",
       "          0.        ,  45.64380977,  48.13742585],\n",
       "       [  0.        ,   0.        ,   0.        ,   0.        ,\n",
       "          0.        ,   0.        ,   0.        ,   0.        ,\n",
       "          0.        ,   0.        ,  43.27936806]])"
      ]
     },
     "execution_count": 157,
     "metadata": {},
     "output_type": "execute_result"
    }
   ],
   "source": [
    "S"
   ]
  },
  {
   "cell_type": "code",
   "execution_count": 158,
   "metadata": {},
   "outputs": [
    {
     "data": {
      "text/plain": [
       "0.48760137133259535"
      ]
     },
     "execution_count": 158,
     "metadata": {},
     "output_type": "execute_result"
    }
   ],
   "source": [
    "a = np.exp(r * dT)    # risk free compound return\n",
    "p = (a - d)/ (u - d)  # risk neutral up probability\n",
    "q = 1.0 - p           # risk neutral down probability\n",
    "p"
   ]
  },
  {
   "cell_type": "markdown",
   "metadata": {},
   "source": [
    "### Step 2: Find option value at each final node"
   ]
  },
  {
   "cell_type": "markdown",
   "metadata": {},
   "source": [
    "At each final node of the tree-i.e. at expiration of the option-the option value is simply its intrinsic, or exercise, value: If[(S_n>=K),Cash,0] for a call option and If[(K>S_n),Cash,0] for a put option, where K is the strike price, S_n is the spot price of the underlying asset at the n-th period and the cash is the payoff."
   ]
  },
  {
   "cell_type": "code",
   "execution_count": 159,
   "metadata": {},
   "outputs": [
    {
     "data": {
      "text/plain": [
       "array([[ 0.,  0.,  0.,  0.,  0.,  0.,  0.,  0.,  0.,  0.,  0.],\n",
       "       [ 0.,  0.,  0.,  0.,  0.,  0.,  0.,  0.,  0.,  0.,  0.],\n",
       "       [ 0.,  0.,  0.,  0.,  0.,  0.,  0.,  0.,  0.,  0.,  0.],\n",
       "       [ 0.,  0.,  0.,  0.,  0.,  0.,  0.,  0.,  0.,  0.,  0.],\n",
       "       [ 0.,  0.,  0.,  0.,  0.,  0.,  0.,  0.,  0.,  0.,  0.],\n",
       "       [ 0.,  0.,  0.,  0.,  0.,  0.,  0.,  0.,  0.,  0.,  0.],\n",
       "       [ 0.,  0.,  0.,  0.,  0.,  0.,  0.,  0.,  0.,  0., 20.],\n",
       "       [ 0.,  0.,  0.,  0.,  0.,  0.,  0.,  0.,  0.,  0., 20.],\n",
       "       [ 0.,  0.,  0.,  0.,  0.,  0.,  0.,  0.,  0.,  0., 20.],\n",
       "       [ 0.,  0.,  0.,  0.,  0.,  0.,  0.,  0.,  0.,  0., 20.],\n",
       "       [ 0.,  0.,  0.,  0.,  0.,  0.,  0.,  0.,  0.,  0., 20.]])"
      ]
     },
     "execution_count": 159,
     "metadata": {},
     "output_type": "execute_result"
    }
   ],
   "source": [
    "S_T = S[:,-1]\n",
    "V = np.zeros((N + 1, N + 1))\n",
    "if payoff ==\"call\":\n",
    "    V[:,-1] = np.where (S_T>=K,Cash, 0.0)  \n",
    "elif payoff ==\"put\":\n",
    "    V[:,-1] = np.where (K>S_T,Cash,0.0)  \n",
    "V"
   ]
  },
  {
   "cell_type": "markdown",
   "metadata": {},
   "source": [
    "### Step 3: Find option value at earlier nodes"
   ]
  },
  {
   "cell_type": "markdown",
   "metadata": {},
   "source": [
    "Once the above step is complete, the option value is then found for each node, starting at the penultimate time step, and working back to the first node of the tree (the valuation date) where the calculated result is the value of the option."
   ]
  },
  {
   "cell_type": "markdown",
   "metadata": {},
   "source": [
    "#### Cash-or-Nothing Binary Option"
   ]
  },
  {
   "cell_type": "code",
   "execution_count": 160,
   "metadata": {},
   "outputs": [
    {
     "data": {
      "text/plain": [
       "array([[ 8.14858815,  5.57342901,  3.22579284,  1.42002087,  0.36176721,\n",
       "         0.        ,  0.        ,  0.        ,  0.        ,  0.        ,\n",
       "         0.        ],\n",
       "       [ 0.        , 10.60064081,  7.80849014,  4.94477596,  2.42732527,\n",
       "         0.70609423,  0.        ,  0.        ,  0.        ,  0.        ,\n",
       "         0.        ],\n",
       "       [ 0.        ,  0.        , 13.25964028, 10.53507004,  7.3413165 ,\n",
       "         4.06571014,  1.37814886,  0.        ,  0.        ,  0.        ,\n",
       "         0.        ],\n",
       "       [ 0.        ,  0.        ,  0.        , 15.85482484, 13.57622483,\n",
       "        10.45976832,  6.6239652 ,  2.68985951,  0.        ,  0.        ,\n",
       "         0.        ],\n",
       "       [ 0.        ,  0.        ,  0.        ,  0.        , 18.02610479,\n",
       "        16.54438947, 14.111887  , 10.36891509,  5.25004545,  0.        ,\n",
       "         0.        ],\n",
       "       [ 0.        ,  0.        ,  0.        ,  0.        ,  0.        ,\n",
       "        19.43946906, 18.86225223, 17.67634689, 15.24199007, 10.24699512,\n",
       "         0.        ],\n",
       "       [ 0.        ,  0.        ,  0.        ,  0.        ,  0.        ,\n",
       "         0.        , 19.99237069, 19.99427774, 19.99618498, 19.9980924 ,\n",
       "        20.        ],\n",
       "       [ 0.        ,  0.        ,  0.        ,  0.        ,  0.        ,\n",
       "         0.        ,  0.        , 19.99427774, 19.99618498, 19.9980924 ,\n",
       "        20.        ],\n",
       "       [ 0.        ,  0.        ,  0.        ,  0.        ,  0.        ,\n",
       "         0.        ,  0.        ,  0.        , 19.99618498, 19.9980924 ,\n",
       "        20.        ],\n",
       "       [ 0.        ,  0.        ,  0.        ,  0.        ,  0.        ,\n",
       "         0.        ,  0.        ,  0.        ,  0.        , 19.9980924 ,\n",
       "        20.        ],\n",
       "       [ 0.        ,  0.        ,  0.        ,  0.        ,  0.        ,\n",
       "         0.        ,  0.        ,  0.        ,  0.        ,  0.        ,\n",
       "        20.        ]])"
      ]
     },
     "execution_count": 160,
     "metadata": {},
     "output_type": "execute_result"
    }
   ],
   "source": [
    "# for European Option\n",
    "for j in range(N-1, -1, -1):\n",
    "    for i in range(j+1):\n",
    "        V[i,j] = np.exp(-r*dT) * (p * V[i,j + 1] + q * V[i + 1,j + 1])\n",
    "V"
   ]
  },
  {
   "cell_type": "code",
   "execution_count": 161,
   "metadata": {},
   "outputs": [
    {
     "name": "stdout",
     "output_type": "stream",
     "text": [
      "Cash-or-Nothing Binary put 8.14858815318183\n"
     ]
    }
   ],
   "source": [
    "print('Cash-or-Nothing Binary ' + payoff, str( V[0,0]))"
   ]
  },
  {
   "cell_type": "markdown",
   "metadata": {},
   "source": [
    "## Monte Carlo Simulation"
   ]
  },
  {
   "cell_type": "markdown",
   "metadata": {},
   "source": [
    "It still has one Python loop, namely over the time intervals. The other dimension is handled by vectorized code over all paths."
   ]
  },
  {
   "cell_type": "code",
   "execution_count": 162,
   "metadata": {},
   "outputs": [],
   "source": [
    "def mcs_simulation_np(p):\n",
    "    M = p\n",
    "    I = p\n",
    "    dt = T / M \n",
    "    S = np.zeros((M + 1, I))\n",
    "    S[0] = S0 \n",
    "    rn = np.random.standard_normal(S.shape) \n",
    "    for t in range(1, M + 1): \n",
    "        S[t] = S[t-1] * np.exp((r - sigma ** 2 / 2) * dt + sigma * np.sqrt(dt) * rn[t]) \n",
    "    return S"
   ]
  },
  {
   "cell_type": "code",
   "execution_count": 163,
   "metadata": {},
   "outputs": [],
   "source": [
    "T = 4/52                    # maturity \n",
    "r = 0.0124                  # risk free rate  2,Mar\n",
    "sigma = 0.6064816874048876  # collaborate (Average) volatility of the last one year and 6 months\n",
    "Cash= 20                    # the payoff if the stock price in maturity less than K (S<K)\n",
    "S0 = 73.67                  # spot stock price\n",
    "K = 70.0                    # strike"
   ]
  },
  {
   "cell_type": "code",
   "execution_count": 164,
   "metadata": {},
   "outputs": [],
   "source": [
    "S = mcs_simulation_np(3000)"
   ]
  },
  {
   "cell_type": "code",
   "execution_count": 165,
   "metadata": {},
   "outputs": [
    {
     "data": {
      "text/plain": [
       "array([[ 73.67      ,  73.30226897,  73.07797664, ...,  77.77294521,\n",
       "         77.72560447,  77.66370183],\n",
       "       [ 73.67      ,  73.36252726,  72.96523436, ...,  64.22167342,\n",
       "         64.41945898,  64.33314861],\n",
       "       [ 73.67      ,  73.69013988,  73.97569588, ..., 112.03698432,\n",
       "        111.99974422, 112.61149582],\n",
       "       ...,\n",
       "       [ 73.67      ,  73.87119983,  74.23722237, ...,  67.84140807,\n",
       "         67.68884951,  67.68207575],\n",
       "       [ 73.67      ,  73.69019022,  73.72810273, ...,  66.23102713,\n",
       "         66.28920428,  66.2176089 ],\n",
       "       [ 73.67      ,  74.01906062,  74.09422279, ...,  93.27512639,\n",
       "         93.54872967,  93.22235754]])"
      ]
     },
     "execution_count": 165,
     "metadata": {},
     "output_type": "execute_result"
    }
   ],
   "source": [
    "S = np.transpose(S)\n",
    "S"
   ]
  },
  {
   "cell_type": "code",
   "execution_count": 166,
   "metadata": {},
   "outputs": [
    {
     "data": {
      "text/plain": [
       "Text(0.5, 1.0, 'Frequency distribution of the simulated end-of-preiod values')"
      ]
     },
     "execution_count": 166,
     "metadata": {},
     "output_type": "execute_result"
    },
    {
     "data": {
      "image/png": "[encoded data removed]",
      "text/plain": [
       "<Figure size 432x288 with 1 Axes>"
      ]
     },
     "metadata": {
      "needs_background": "light"
     },
     "output_type": "display_data"
    }
   ],
   "source": [
    "import matplotlib.pyplot as plt\n",
    "n, bins, patches = plt.hist(x=S[:,-1], bins='auto', color='#0504aa',alpha=0.7, rwidth=0.85)\n",
    "\n",
    "plt.grid(axis='y', alpha=0.75)\n",
    "plt.xlabel('S_T')\n",
    "plt.ylabel('Frequency')\n",
    "plt.title('Frequency distribution of the simulated end-of-preiod values')"
   ]
  },
  {
   "cell_type": "code",
   "execution_count": 167,
   "metadata": {},
   "outputs": [
    {
     "name": "stdout",
     "output_type": "stream",
     "text": [
      "Cash-or-Nothing Binary put 8.233333333333333\n"
     ]
    }
   ],
   "source": [
    "p = np.mean(np.where(K > S[:,-1],Cash,0))     \n",
    "print('Cash-or-Nothing Binary put', str(p))"
   ]
  }
 ],
 "metadata": {
  "kernelspec": {
   "display_name": "Python 3",
   "language": "python",
   "name": "python3"
  },
  "language_info": {
   "codemirror_mode": {
    "name": "ipython",
    "version": 3
   },
   "file_extension": ".py",
   "mimetype": "text/x-python",
   "name": "python",
   "nbconvert_exporter": "python",
   "pygments_lexer": "ipython3",
   "version": "3.8.5"
  }
 },
 "nbformat": 4,
 "nbformat_minor": 4
}
